{
 "cells": [
  {
   "cell_type": "code",
   "execution_count": null,
   "id": "472709ab-fb91-4678-83f2-2c8b3457552b",
   "metadata": {},
   "outputs": [],
   "source": [
    "print(\"GRADE GENERATOR\")\n",
    "print()\n",
    "testNmae = input(\"WHat is the name of the exam? \")\n",
    "print()\n",
    "maxScore = int(input(\"What is the maximum score? \"))\n",
    "userScore = float(input(\"What is your score? \"))\n",
    "percentage = round(userScore / maxScore * 100, 2)\n",
    "\n",
    "if percentage >= 90:\n",
    "  print(\"\\033[33m\\Congratulations 🎊, You got an A+. Your percentage is \",\n",
    "        percentage, \"%.\")\n",
    "elif percentage >= 80 and percentage <= 89:\n",
    "  print(\"\\033[32m\\Amazing 👏, You got \", percentage, \"%, which is an A.\")\n",
    "elif percentage >= 70 and percentage <= 79:\n",
    "  print(\"\\033[31m\\Very well done 🥂, your grade is B and you scored \", percentage, \"&.\")\n",
    "elif percentage >= 60 and percentage <= 69:\n",
    "  print(\"\\033[34m\\Good Job 👍, you got \", percentage,\n",
    "        \"% and your grade is C.\")\n",
    "elif percentage >= 50 and percentage <= 59:\n",
    "  print(\"\\033[35m\\You passes with a D grade and your percentage is \",\n",
    "        percentage, \"%.\")\n",
    "elif percentage <= 49:\n",
    "  print(\"You failed with a U grade and you percentage is \", percentage,\n",
    "        \"%. Better luck next time.\")\n",
    "else:\n",
    "  print(\"Invalid response, try again.\")"
   ]
  }
 ],
 "metadata": {
  "kernelspec": {
   "display_name": "Python 3 (ipykernel)",
   "language": "python",
   "name": "python3"
  },
  "language_info": {
   "codemirror_mode": {
    "name": "ipython",
    "version": 3
   },
   "file_extension": ".py",
   "mimetype": "text/x-python",
   "name": "python",
   "nbconvert_exporter": "python",
   "pygments_lexer": "ipython3",
   "version": "3.12.4"
  }
 },
 "nbformat": 4,
 "nbformat_minor": 5
}
